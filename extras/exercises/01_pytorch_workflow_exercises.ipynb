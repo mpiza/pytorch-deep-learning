{
  "cells": [
    {
      "cell_type": "markdown",
      "metadata": {
        "colab_type": "text",
        "id": "view-in-github"
      },
      "source": [
        "<a href=\"https://colab.research.google.com/github/mrdbourke/pytorch-deep-learning/blob/main/extras/exercises/01_pytorch_workflow_exercises.ipynb\" target=\"_parent\"><img src=\"https://colab.research.google.com/assets/colab-badge.svg\" alt=\"Open In Colab\"/></a>"
      ]
    },
    {
      "cell_type": "markdown",
      "metadata": {
        "id": "N8LsPXZti9Sw"
      },
      "source": [
        "# 01. PyTorch Workflow Exercise Template\n",
        "\n",
        "The following is a template for the PyTorch workflow exercises.\n",
        "\n",
        "It's only starter code and it's your job to fill in the blanks.\n",
        "\n",
        "Because of the flexibility of PyTorch, there may be more than one way to answer the question.\n",
        "\n",
        "Don't worry about trying to be *right* just try writing code that suffices the question.\n",
        "\n",
        "You can see one form of [solutions on GitHub](https://github.com/mrdbourke/pytorch-deep-learning/tree/main/extras/solutions) (but try the exercises below yourself first!)."
      ]
    },
    {
      "cell_type": "code",
      "execution_count": 295,
      "metadata": {
        "id": "Glu2fM4dkNlx"
      },
      "outputs": [
        {
          "name": "stdout",
          "output_type": "stream",
          "text": [
            "2.1.2+cu121\n"
          ]
        }
      ],
      "source": [
        "# Import necessary libraries\n",
        "import numpy as np\n",
        "import torch\n",
        "print(torch.__version__)\n",
        "\n",
        "from torch import nn\n",
        "\n",
        "import matplotlib.pyplot as plt"
      ]
    },
    {
      "cell_type": "code",
      "execution_count": 296,
      "metadata": {
        "id": "LqKhXY26m31s"
      },
      "outputs": [
        {
          "name": "stdout",
          "output_type": "stream",
          "text": [
            "using cuda device\n"
          ]
        }
      ],
      "source": [
        "# Setup device-agnostic code\n",
        "if torch.cuda.is_available():\n",
        "    device = torch.device('cuda')\n",
        "else:\n",
        "    device = torch.device('cpu')\n",
        "\n",
        "print(f\"using {device} device\")"
      ]
    },
    {
      "cell_type": "markdown",
      "metadata": {
        "id": "g7HUhxCxjeBx"
      },
      "source": [
        "## 1. Create a straight line dataset using the linear regression formula (`weight * X + bias`).\n",
        "  * Set `weight=0.3` and `bias=0.9` there should be at least 100 datapoints total. \n",
        "  * Split the data into 80% training, 20% testing.\n",
        "  * Plot the training and testing data so it becomes visual.\n",
        "\n",
        "Your output of the below cell should look something like:\n",
        "```\n",
        "Number of X samples: 100\n",
        "Number of y samples: 100\n",
        "First 10 X & y samples:\n",
        "X: tensor([0.0000, 0.0100, 0.0200, 0.0300, 0.0400, 0.0500, 0.0600, 0.0700, 0.0800,\n",
        "        0.0900])\n",
        "y: tensor([0.9000, 0.9030, 0.9060, 0.9090, 0.9120, 0.9150, 0.9180, 0.9210, 0.9240,\n",
        "        0.9270])\n",
        "```\n",
        "\n",
        "Of course the numbers in `X` and `y` may be different but ideally they're created using the linear regression formula."
      ]
    },
    {
      "cell_type": "code",
      "execution_count": 297,
      "metadata": {
        "id": "KbDG5MV7jhvE"
      },
      "outputs": [
        {
          "name": "stdout",
          "output_type": "stream",
          "text": [
            "torch.Size([100, 1])\n",
            "Number of X samples: 100\n",
            "Number of y samples: 100\n",
            "First 10 X & y samples:\n",
            "X: tensor([[0.0000],\n",
            "        [0.0100],\n",
            "        [0.0200],\n",
            "        [0.0300],\n",
            "        [0.0400],\n",
            "        [0.0500],\n",
            "        [0.0600],\n",
            "        [0.0700],\n",
            "        [0.0800],\n",
            "        [0.0900]])\n",
            "y: tensor([[0.9000],\n",
            "        [0.9030],\n",
            "        [0.9060],\n",
            "        [0.9090],\n",
            "        [0.9120],\n",
            "        [0.9150],\n",
            "        [0.9180],\n",
            "        [0.9210],\n",
            "        [0.9240],\n",
            "        [0.9270]])\n"
          ]
        }
      ],
      "source": [
        "torch.manual_seed(0)\n",
        "# Create the data parameters\n",
        "weight = 0.3\n",
        "bias = 0.9\n",
        "\n",
        "n_values =100\n",
        "start = 0\n",
        "end = 1\n",
        "X = torch.arange(start, end, (end-start)/n_values).unsqueeze(1)\n",
        "print(X.shape)\n",
        "y = weight*X + bias \n",
        "\n",
        "# Make X and y using linear regression feature\n",
        "\n",
        "\n",
        "print(f\"Number of X samples: {len(X)}\")\n",
        "print(f\"Number of y samples: {len(y)}\")\n",
        "print(f\"First 10 X & y samples:\\nX: {X[:10]}\\ny: {y[:10]}\")"
      ]
    },
    {
      "cell_type": "code",
      "execution_count": 298,
      "metadata": {
        "id": "GlwtT1djkmLw"
      },
      "outputs": [],
      "source": [
        "# Split the data into training and testing\n",
        "\n",
        "train_fraction = 0.8\n",
        "\n",
        "X_train = X[:int(n_values*train_fraction)]\n",
        "y_train = y[:int(n_values*train_fraction)]\n",
        "\n",
        "X_test = X[int(n_values*train_fraction):]\n",
        "y_test = y[int(n_values*train_fraction):]"
      ]
    },
    {
      "cell_type": "code",
      "execution_count": 299,
      "metadata": {
        "id": "29iQZFNhlYJ-"
      },
      "outputs": [
        {
          "data": {
            "image/png": "[encoded data removed]",
            "text/plain": [
              "<Figure size 640x480 with 1 Axes>"
            ]
          },
          "metadata": {},
          "output_type": "display_data"
        }
      ],
      "source": [
        "# Plot the training and testing data \n",
        "\n",
        "def plot_data(train_data = X_train,train_labels =  y_train, test_data = X_test, test_labels = y_test, prediction = None):\n",
        "\n",
        "    plt.title(\"Data\")\n",
        "    plt.xlabel(\"X\")\n",
        "    plt.ylabel(\"y\")\n",
        "    plt.plot(train_data, train_labels, label=\"Training Data\", color='red', marker='.')\n",
        "    plt.plot(test_data, test_labels, label=\"Testing Data\", color='green', marker='.')\n",
        "\n",
        "\n",
        "    if prediction is not None:\n",
        "        plt.plot(test_data, prediction, label=\"Prediction\", color='blue', marker='.')\n",
        "        \n",
        "    plt.legend()\n",
        "    plt.show()\n",
        "\n",
        "\n",
        "\n",
        "plot_data(X_train.cpu(), y_train.cpu(), X_test.cpu(), y_test.cpu())"
      ]
    },
    {
      "cell_type": "markdown",
      "metadata": {
        "id": "ImZoe3v8jif8"
      },
      "source": [
        "## 2. Build a PyTorch model by subclassing `nn.Module`. \n",
        "  * Inside should be a randomly initialized `nn.Parameter()` with `requires_grad=True`, one for `weights` and one for `bias`. \n",
        "  * Implement the `forward()` method to compute the linear regression function you used to create the dataset in 1. \n",
        "  * Once you've constructed the model, make an instance of it and check its `state_dict()`.\n",
        "  * **Note:** If you'd like to use `nn.Linear()` instead of `nn.Parameter()` you can."
      ]
    },
    {
      "cell_type": "code",
      "execution_count": 300,
      "metadata": {
        "id": "qzd__Y5rjtB8"
      },
      "outputs": [],
      "source": [
        "# Create PyTorch linear regression model by subclassing nn.Module\n",
        "\n",
        "class LinearRegression(nn.Module):\n",
        "    def __init__(self,input_dim, output_dim):\n",
        "        super().__init__()\n",
        "        self.linear = nn.Linear(input_dim, output_dim) # linear layer (already contains weights and bias)\n",
        "\n",
        "    def forward(self, x):\n",
        "        return self.linear(x) # forward pass, computes the output Y from the input X"
      ]
    },
    {
      "cell_type": "code",
      "execution_count": 301,
      "metadata": {
        "id": "5LdcDnmOmyQ2"
      },
      "outputs": [
        {
          "name": "stdout",
          "output_type": "stream",
          "text": [
            "cpu cuda\n",
            "LinearRegression(\n",
            "  (linear): Linear(in_features=1, out_features=1, bias=True)\n",
            ")\n",
            "OrderedDict([('linear.weight', tensor([[-0.0075]], device='cuda:0')), ('linear.bias', tensor([0.5364], device='cuda:0'))])\n",
            "Parameter containing:\n",
            "tensor([[-0.0075]], device='cuda:0', requires_grad=True)\n",
            "Parameter containing:\n",
            "tensor([0.5364], device='cuda:0', requires_grad=True)\n",
            "   name, par    linear.weight Parameter containing:\n",
            "tensor([[-0.0075]], device='cuda:0', requires_grad=True)\n",
            "   name, par    linear.bias Parameter containing:\n",
            "tensor([0.5364], device='cuda:0', requires_grad=True)\n"
          ]
        }
      ],
      "source": [
        "# Instantiate the model and put it to the target device\n",
        "\n",
        "input_dim = 1\n",
        "output_dim = 1\n",
        "model = LinearRegression(input_dim, output_dim)\n",
        "print(next(model.parameters()).device, device)\n",
        "model.to(device)\n",
        "\n",
        "print(model)\n",
        "print(model.state_dict())\n",
        "for par in model.parameters():\\\n",
        "    print(par)\n",
        "for name, par in model.named_parameters():\\\n",
        "    print(f\"   name, par    {name} {par}\")\n",
        "\n",
        "\n",
        " "
      ]
    },
    {
      "cell_type": "markdown",
      "metadata": {
        "id": "G6nYOrJhjtfu"
      },
      "source": [
        "## 3. Create a loss function and optimizer using `nn.L1Loss()` and `torch.optim.SGD(params, lr)` respectively. \n",
        "  * Set the learning rate of the optimizer to be 0.01 and the parameters to optimize should be the model parameters from the model you created in 2.\n",
        "  * Write a training loop to perform the appropriate training steps for 300 epochs.\n",
        "  * The training loop should test the model on the test dataset every 20 epochs."
      ]
    },
    {
      "cell_type": "code",
      "execution_count": 302,
      "metadata": {
        "id": "ltvoZ-FWjv1j"
      },
      "outputs": [],
      "source": [
        "# Create the loss function and optimizer\n",
        "loss_function = nn.L1Loss()\n",
        "optimizer = torch.optim.SGD(model.parameters(), lr=0.001) # play with this. If set to 0.01 convergence is not so good. Try 0.001"
      ]
    },
    {
      "cell_type": "code",
      "execution_count": 303,
      "metadata": {
        "id": "xpE83NvNnkdV"
      },
      "outputs": [
        {
          "name": "stdout",
          "output_type": "stream",
          "text": [
            "Epoch: 0 | Train loss: 0.485 | Test loss: 0.637| weight: -0.007 | bias: 0.537\n",
            "Epoch: 0 | Train loss: 0.485 | Test loss: 0.637| weight: -0.007 | bias: 0.537\n",
            "Epoch: 50 | Train loss: 0.427 | Test loss: 0.570| weight: 0.013 | bias: 0.587\n",
            "Epoch: 50 | Train loss: 0.427 | Test loss: 0.570| weight: 0.013 | bias: 0.587\n",
            "Epoch: 100 | Train loss: 0.369 | Test loss: 0.502| weight: 0.032 | bias: 0.637\n",
            "Epoch: 100 | Train loss: 0.369 | Test loss: 0.502| weight: 0.032 | bias: 0.637\n",
            "Epoch: 150 | Train loss: 0.312 | Test loss: 0.434| weight: 0.052 | bias: 0.687\n",
            "Epoch: 150 | Train loss: 0.312 | Test loss: 0.434| weight: 0.052 | bias: 0.687\n"
          ]
        },
        {
          "name": "stdout",
          "output_type": "stream",
          "text": [
            "Epoch: 200 | Train loss: 0.254 | Test loss: 0.367| weight: 0.072 | bias: 0.737\n",
            "Epoch: 200 | Train loss: 0.254 | Test loss: 0.367| weight: 0.072 | bias: 0.737\n",
            "Epoch: 250 | Train loss: 0.196 | Test loss: 0.299| weight: 0.092 | bias: 0.787\n",
            "Epoch: 250 | Train loss: 0.196 | Test loss: 0.299| weight: 0.092 | bias: 0.787\n",
            "Epoch: 300 | Train loss: 0.138 | Test loss: 0.231| weight: 0.111 | bias: 0.837\n",
            "Epoch: 300 | Train loss: 0.138 | Test loss: 0.231| weight: 0.111 | bias: 0.837\n",
            "Epoch: 350 | Train loss: 0.080 | Test loss: 0.164| weight: 0.131 | bias: 0.887\n",
            "Epoch: 350 | Train loss: 0.080 | Test loss: 0.164| weight: 0.131 | bias: 0.887\n",
            "Epoch: 400 | Train loss: 0.039 | Test loss: 0.106| weight: 0.150 | bias: 0.928\n",
            "Epoch: 400 | Train loss: 0.039 | Test loss: 0.106| weight: 0.150 | bias: 0.928\n",
            "Epoch: 450 | Train loss: 0.028 | Test loss: 0.076| weight: 0.166 | bias: 0.944\n",
            "Epoch: 450 | Train loss: 0.028 | Test loss: 0.076| weight: 0.166 | bias: 0.944\n",
            "Epoch: 500 | Train loss: 0.025 | Test loss: 0.062| weight: 0.177 | bias: 0.948\n",
            "Epoch: 500 | Train loss: 0.025 | Test loss: 0.062| weight: 0.177 | bias: 0.948\n",
            "Epoch: 550 | Train loss: 0.023 | Test loss: 0.055| weight: 0.187 | bias: 0.947\n",
            "Epoch: 550 | Train loss: 0.023 | Test loss: 0.055| weight: 0.187 | bias: 0.947\n",
            "Epoch: 600 | Train loss: 0.021 | Test loss: 0.050| weight: 0.195 | bias: 0.944\n",
            "Epoch: 600 | Train loss: 0.021 | Test loss: 0.050| weight: 0.195 | bias: 0.944\n",
            "Epoch: 650 | Train loss: 0.019 | Test loss: 0.046| weight: 0.204 | bias: 0.940\n",
            "Epoch: 650 | Train loss: 0.019 | Test loss: 0.046| weight: 0.204 | bias: 0.940\n",
            "Epoch: 700 | Train loss: 0.018 | Test loss: 0.042| weight: 0.212 | bias: 0.937\n",
            "Epoch: 700 | Train loss: 0.018 | Test loss: 0.042| weight: 0.212 | bias: 0.937\n",
            "Epoch: 750 | Train loss: 0.016 | Test loss: 0.038| weight: 0.221 | bias: 0.933\n",
            "Epoch: 750 | Train loss: 0.016 | Test loss: 0.038| weight: 0.221 | bias: 0.933\n",
            "Epoch: 800 | Train loss: 0.014 | Test loss: 0.033| weight: 0.230 | bias: 0.930\n",
            "Epoch: 800 | Train loss: 0.014 | Test loss: 0.033| weight: 0.230 | bias: 0.930\n",
            "Epoch: 850 | Train loss: 0.012 | Test loss: 0.029| weight: 0.238 | bias: 0.926\n",
            "Epoch: 850 | Train loss: 0.012 | Test loss: 0.029| weight: 0.238 | bias: 0.926\n",
            "Epoch: 900 | Train loss: 0.011 | Test loss: 0.025| weight: 0.247 | bias: 0.922\n",
            "Epoch: 900 | Train loss: 0.011 | Test loss: 0.025| weight: 0.247 | bias: 0.922\n",
            "Epoch: 950 | Train loss: 0.009 | Test loss: 0.021| weight: 0.255 | bias: 0.919\n",
            "Epoch: 950 | Train loss: 0.009 | Test loss: 0.021| weight: 0.255 | bias: 0.919\n",
            "Epoch: 1000 | Train loss: 0.007 | Test loss: 0.017| weight: 0.264 | bias: 0.915\n",
            "Epoch: 1000 | Train loss: 0.007 | Test loss: 0.017| weight: 0.264 | bias: 0.915\n",
            "Epoch: 1050 | Train loss: 0.006 | Test loss: 0.013| weight: 0.272 | bias: 0.912\n",
            "Epoch: 1050 | Train loss: 0.006 | Test loss: 0.013| weight: 0.272 | bias: 0.912\n",
            "Epoch: 1100 | Train loss: 0.004 | Test loss: 0.009| weight: 0.281 | bias: 0.908\n",
            "Epoch: 1100 | Train loss: 0.004 | Test loss: 0.009| weight: 0.281 | bias: 0.908\n",
            "Epoch: 1150 | Train loss: 0.002 | Test loss: 0.005| weight: 0.289 | bias: 0.905\n",
            "Epoch: 1150 | Train loss: 0.002 | Test loss: 0.005| weight: 0.289 | bias: 0.905\n",
            "Epoch: 1200 | Train loss: 0.000 | Test loss: 0.001| weight: 0.298 | bias: 0.901\n",
            "Epoch: 1200 | Train loss: 0.000 | Test loss: 0.001| weight: 0.298 | bias: 0.901\n",
            "Epoch: 1250 | Train loss: 0.000 | Test loss: 0.001| weight: 0.299 | bias: 0.899\n",
            "Epoch: 1250 | Train loss: 0.000 | Test loss: 0.001| weight: 0.299 | bias: 0.899\n",
            "Epoch: 1300 | Train loss: 0.000 | Test loss: 0.001| weight: 0.299 | bias: 0.899\n",
            "Epoch: 1300 | Train loss: 0.000 | Test loss: 0.001| weight: 0.299 | bias: 0.899\n",
            "Epoch: 1350 | Train loss: 0.000 | Test loss: 0.001| weight: 0.299 | bias: 0.899\n",
            "Epoch: 1350 | Train loss: 0.000 | Test loss: 0.001| weight: 0.299 | bias: 0.899\n",
            "Epoch: 1400 | Train loss: 0.000 | Test loss: 0.001| weight: 0.299 | bias: 0.899\n",
            "Epoch: 1400 | Train loss: 0.000 | Test loss: 0.001| weight: 0.299 | bias: 0.899\n",
            "Epoch: 1450 | Train loss: 0.000 | Test loss: 0.001| weight: 0.299 | bias: 0.899\n",
            "Epoch: 1450 | Train loss: 0.000 | Test loss: 0.001| weight: 0.299 | bias: 0.899\n",
            "Epoch: 1500 | Train loss: 0.000 | Test loss: 0.001| weight: 0.299 | bias: 0.899\n",
            "Epoch: 1500 | Train loss: 0.000 | Test loss: 0.001| weight: 0.299 | bias: 0.899\n",
            "Epoch: 1550 | Train loss: 0.000 | Test loss: 0.001| weight: 0.299 | bias: 0.899\n",
            "Epoch: 1550 | Train loss: 0.000 | Test loss: 0.001| weight: 0.299 | bias: 0.899\n",
            "Epoch: 1600 | Train loss: 0.000 | Test loss: 0.001| weight: 0.299 | bias: 0.899\n",
            "Epoch: 1600 | Train loss: 0.000 | Test loss: 0.001| weight: 0.299 | bias: 0.899\n",
            "Epoch: 1650 | Train loss: 0.000 | Test loss: 0.001| weight: 0.299 | bias: 0.899\n",
            "Epoch: 1650 | Train loss: 0.000 | Test loss: 0.001| weight: 0.299 | bias: 0.899\n",
            "Epoch: 1700 | Train loss: 0.000 | Test loss: 0.001| weight: 0.299 | bias: 0.899\n",
            "Epoch: 1700 | Train loss: 0.000 | Test loss: 0.001| weight: 0.299 | bias: 0.899\n",
            "Epoch: 1750 | Train loss: 0.000 | Test loss: 0.001| weight: 0.299 | bias: 0.899\n",
            "Epoch: 1750 | Train loss: 0.000 | Test loss: 0.001| weight: 0.299 | bias: 0.899\n",
            "Epoch: 1800 | Train loss: 0.000 | Test loss: 0.001| weight: 0.299 | bias: 0.899\n",
            "Epoch: 1800 | Train loss: 0.000 | Test loss: 0.001| weight: 0.299 | bias: 0.899\n",
            "Epoch: 1850 | Train loss: 0.000 | Test loss: 0.001| weight: 0.299 | bias: 0.899\n",
            "Epoch: 1850 | Train loss: 0.000 | Test loss: 0.001| weight: 0.299 | bias: 0.899\n",
            "Epoch: 1900 | Train loss: 0.000 | Test loss: 0.001| weight: 0.299 | bias: 0.899\n",
            "Epoch: 1900 | Train loss: 0.000 | Test loss: 0.001| weight: 0.299 | bias: 0.899\n",
            "Epoch: 1950 | Train loss: 0.000 | Test loss: 0.001| weight: 0.299 | bias: 0.899\n",
            "Epoch: 1950 | Train loss: 0.000 | Test loss: 0.001| weight: 0.299 | bias: 0.899\n"
          ]
        }
      ],
      "source": [
        "# Training loop\n",
        "\n",
        "\n",
        "# Train model for 300 epochs\n",
        "epochs = 2000\n",
        "\n",
        "# Send data to target device\n",
        "X_train = X_train.to(device)\n",
        "y_train = y_train.to(device)\n",
        "X_test = X_test.to(device)\n",
        "y_test = y_test.to(device)\n",
        "\n",
        "for epoch in range(epochs):\n",
        "  ### Training\n",
        "\n",
        "  # Put model in train mode\n",
        "  model.train()\n",
        "\n",
        "  # 1. Forward pass\n",
        "  y_pred_train = model(X_train)\n",
        "\n",
        "  # 2. Calculate loss\n",
        "  loss = loss_function(y_pred_train, y_train.to(device))\n",
        "  \n",
        "\n",
        "  # 3. Zero gradients\n",
        "  optimizer.zero_grad()\n",
        "\n",
        "  # 4. Backpropagation\n",
        "  loss.backward()\n",
        "\n",
        "\n",
        "  # 5. Step the optimizer\n",
        "  optimizer.step()\n",
        "\n",
        "  ### Perform testing every 20 epochs\n",
        "  if epoch % 50 == 0:\n",
        "    with torch.inference_mode():\n",
        "      # Put model in evaluation mode and setup inference context \n",
        "      model.eval()\n",
        "      # 1. Forward pass\n",
        "      y_pred_test = model(X_test.to(device))\n",
        "      # 2. Calculate test loss\n",
        "      test_loss = loss_function(y_pred_test, y_test.to(device))\n",
        "\n",
        "      # Print out what's happening\n",
        "      print(f\"Epoch: {epoch} | Train loss: {loss:.3f} | Test loss: {test_loss:.3f}| weight: {model.linear.weight.item():.3f} | bias: {model.linear.bias.item():.3f}\")\n",
        "\n",
        "     \n",
        "      # Print out what's happening\n",
        "      print(f\"Epoch: {epoch} | Train loss: {loss:.3f} | Test loss: {test_loss:.3f}| weight: {model.linear.weight.item():.3f} | bias: {model.linear.bias.item():.3f}\")\n",
        "   \n",
        " "
      ]
    },
    {
      "cell_type": "markdown",
      "metadata": {
        "id": "x4j4TM18jwa7"
      },
      "source": [
        "## 4. Make predictions with the trained model on the test data.\n",
        "  * Visualize these predictions against the original training and testing data (**note:** you may need to make sure the predictions are *not* on the GPU if you want to use non-CUDA-enabled libraries such as matplotlib to plot)."
      ]
    },
    {
      "cell_type": "code",
      "execution_count": 310,
      "metadata": {
        "id": "bbMPK5Qjjyx_"
      },
      "outputs": [
        {
          "name": "stdout",
          "output_type": "stream",
          "text": [
            "OrderedDict([('linear.weight', tensor([[0.2997]], device='cuda:0')), ('linear.bias', tensor([0.9004], device='cuda:0'))])\n",
            "tensor([[1.1402],\n",
            "        [1.1432],\n",
            "        [1.1462],\n",
            "        [1.1492],\n",
            "        [1.1522],\n",
            "        [1.1552],\n",
            "        [1.1582],\n",
            "        [1.1612],\n",
            "        [1.1642],\n",
            "        [1.1672],\n",
            "        [1.1702],\n",
            "        [1.1732],\n",
            "        [1.1762],\n",
            "        [1.1792],\n",
            "        [1.1822],\n",
            "        [1.1852],\n",
            "        [1.1882],\n",
            "        [1.1912],\n",
            "        [1.1942],\n",
            "        [1.1972]], device='cuda:0', grad_fn=<AddmmBackward0>)\n",
            "tensor([[0.0002],\n",
            "        [0.0002],\n",
            "        [0.0002],\n",
            "        [0.0002],\n",
            "        [0.0002],\n",
            "        [0.0002],\n",
            "        [0.0002],\n",
            "        [0.0002],\n",
            "        [0.0002],\n",
            "        [0.0002],\n",
            "        [0.0002],\n",
            "        [0.0002],\n",
            "        [0.0002],\n",
            "        [0.0002],\n",
            "        [0.0002],\n",
            "        [0.0002],\n",
            "        [0.0002],\n",
            "        [0.0002],\n",
            "        [0.0002],\n",
            "        [0.0002]])\n"
          ]
        }
      ],
      "source": [
        "# Make predictions with the model\n",
        "model.eval()\n",
        "print(model.state_dict())\n",
        "y_pred = model(X_test)\n",
        "print(y_pred)\n",
        "y_pred = y_pred.detach().cpu()\n",
        "print(y_pred - y_test.cpu())"
      ]
    },
    {
      "cell_type": "code",
      "execution_count": 305,
      "metadata": {
        "id": "K3BdmQaDpFo8"
      },
      "outputs": [
        {
          "data": {
            "image/png": "[encoded data removed]",
            "text/plain": [
              "<Figure size 640x480 with 1 Axes>"
            ]
          },
          "metadata": {},
          "output_type": "display_data"
        }
      ],
      "source": [
        "# Plot the predictions (these may need to be on a specific device)\n",
        "plot_data(X_train.cpu(), y_train.cpu(), X_test.cpu(), y_test.cpu(),y_pred.cpu())"
      ]
    },
    {
      "cell_type": "markdown",
      "metadata": {
        "id": "s2OnlMWKjzX8"
      },
      "source": [
        "## 5. Save your trained model's `state_dict()` to file.\n",
        "  * Create a new instance of your model class you made in 2. and load in the `state_dict()` you just saved to it.\n",
        "  * Perform predictions on your test data with the loaded model and confirm they match the original model predictions from 4."
      ]
    },
    {
      "cell_type": "code",
      "execution_count": 306,
      "metadata": {
        "id": "hgxhgD14qr-i"
      },
      "outputs": [],
      "source": [
        "from pathlib import Path\n",
        "\n",
        "# 1. Create models directory \n",
        "MODEL_DIR = Path('models')\n",
        "MODEL_DIR.mkdir(parents=True, exist_ok=True)\n",
        "\n",
        "\n",
        "# 2. Create model save path \n",
        "MODEL_NAME = 'linear_regression.pth'\n",
        "MODEL_SAVE_PATH = Path('models/linear_regression.pth')\n",
        "# 3. Save the model state dict\n",
        "torch.save(obj = model.state_dict(),f = MODEL_SAVE_PATH)"
      ]
    },
    {
      "cell_type": "code",
      "execution_count": 307,
      "metadata": {
        "id": "P9vTgiLRrJ7T"
      },
      "outputs": [
        {
          "data": {
            "text/plain": [
              "LinearRegression(\n",
              "  (linear): Linear(in_features=1, out_features=1, bias=True)\n",
              ")"
            ]
          },
          "execution_count": 307,
          "metadata": {},
          "output_type": "execute_result"
        }
      ],
      "source": [
        "# Create new instance of model and load saved state dict (make sure to put it on the target device)\n",
        "model_reload = LinearRegression(input_dim, output_dim)\n",
        "model_reload.load_state_dict(torch.load(MODEL_SAVE_PATH))\n",
        "model_reload.to(device)"
      ]
    },
    {
      "cell_type": "code",
      "execution_count": 308,
      "metadata": {
        "id": "8UGX3VebrVtI"
      },
      "outputs": [
        {
          "name": "stdout",
          "output_type": "stream",
          "text": [
            "OrderedDict([('linear.weight', tensor([[0.2997]], device='cuda:0')), ('linear.bias', tensor([0.9004], device='cuda:0'))])\n",
            "tensor([[1.1402],\n",
            "        [1.1432],\n",
            "        [1.1462],\n",
            "        [1.1492],\n",
            "        [1.1522],\n",
            "        [1.1552],\n",
            "        [1.1582],\n",
            "        [1.1612],\n",
            "        [1.1642],\n",
            "        [1.1672],\n",
            "        [1.1702],\n",
            "        [1.1732],\n",
            "        [1.1762],\n",
            "        [1.1792],\n",
            "        [1.1822],\n",
            "        [1.1852],\n",
            "        [1.1882],\n",
            "        [1.1912],\n",
            "        [1.1942],\n",
            "        [1.1972]])\n",
            "tensor([[0.0002],\n",
            "        [0.0002],\n",
            "        [0.0002],\n",
            "        [0.0002],\n",
            "        [0.0002],\n",
            "        [0.0002],\n",
            "        [0.0002],\n",
            "        [0.0002],\n",
            "        [0.0002],\n",
            "        [0.0002],\n",
            "        [0.0002],\n",
            "        [0.0002],\n",
            "        [0.0002],\n",
            "        [0.0002],\n",
            "        [0.0002],\n",
            "        [0.0002],\n",
            "        [0.0002],\n",
            "        [0.0002],\n",
            "        [0.0002],\n",
            "        [0.0002]])\n"
          ]
        }
      ],
      "source": [
        "# Make predictions with loaded model and compare them to the previous\n",
        "\n",
        "model_reload.eval()\n",
        "print(model_reload.state_dict())\n",
        "y_pred = model_reload(X_test)\n",
        "y_pred = y_pred.detach().cpu()\n",
        "print(y_pred)\n",
        "print(y_pred - y_test.cpu())"
      ]
    }
  ],
  "metadata": {
    "accelerator": "GPU",
    "colab": {
      "authorship_tag": "ABX9TyNYzatJtFkfUqqdiR6rYwVL",
      "collapsed_sections": [],
      "include_colab_link": true,
      "name": "01_pytorch_workflow_exercises.ipynb",
      "provenance": []
    },
    "kernelspec": {
      "display_name": "Python 3",
      "name": "python3"
    },
    "language_info": {
      "codemirror_mode": {
        "name": "ipython",
        "version": 3
      },
      "file_extension": ".py",
      "mimetype": "text/x-python",
      "name": "python",
      "nbconvert_exporter": "python",
      "pygments_lexer": "ipython3",
      "version": "3.11.6"
    }
  },
  "nbformat": 4,
  "nbformat_minor": 0
}
